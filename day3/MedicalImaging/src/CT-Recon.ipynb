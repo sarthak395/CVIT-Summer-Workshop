{
 "cells": [
  {
   "cell_type": "markdown",
   "metadata": {},
   "source": [
    "# Parallel Beam Tomographic Reconstruction using Simple Backprojection\n"
   ]
  },
  {
   "cell_type": "code",
   "execution_count": 8,
   "metadata": {},
   "outputs": [],
   "source": [
    "import numpy as np\n",
    "import pydicom as dicom\n",
    "\n",
    "from scipy.interpolate import interp1d, griddata\n",
    "from scipy.constants import golden_ratio\n",
    "from scipy.fft import fft, ifft, fftfreq, fftshift, fft2, ifft2\n",
    "from warnings import warn\n",
    "from functools import partial\n",
    "\n",
    "from scipy.io import loadmat\n",
    "import matplotlib.pyplot as plt\n",
    "import matplotlib.image as mpimg\n",
    "import scipy\n",
    "\n",
    "from skimage.metrics import mean_squared_error, peak_signal_noise_ratio\n",
    "from skimage.transform import radon"
   ]
  },
  {
   "cell_type": "code",
   "execution_count": 9,
   "metadata": {},
   "outputs": [
    {
     "ename": "AttributeError",
     "evalue": "'FileDataset' object has no attribute 'ndim'",
     "output_type": "error",
     "traceback": [
      "\u001b[0;31m---------------------------------------------------------------------------\u001b[0m",
      "\u001b[0;31mAttributeError\u001b[0m                            Traceback (most recent call last)",
      "Cell \u001b[0;32mIn [9], line 69\u001b[0m\n\u001b[1;32m     66\u001b[0m inp \u001b[38;5;241m=\u001b[39m dicom\u001b[38;5;241m.\u001b[39mdcmread(\u001b[38;5;124m'\u001b[39m\u001b[38;5;124m../data/ct_covid_lung/CT-7358-0014.dcm\u001b[39m\u001b[38;5;124m'\u001b[39m)\n\u001b[1;32m     68\u001b[0m \u001b[38;5;66;03m## load the radon transform of the input and store in a variable named radon_transform\u001b[39;00m\n\u001b[0;32m---> 69\u001b[0m radon_transform \u001b[38;5;241m=\u001b[39m \u001b[43mradon\u001b[49m\u001b[43m(\u001b[49m\u001b[43minp\u001b[49m\u001b[43m)\u001b[49m\n\u001b[1;32m     71\u001b[0m \u001b[38;5;66;03m# call the function simple_backprojection with the appropriate parameters and store the output in a variable named out\u001b[39;00m\n\u001b[1;32m     72\u001b[0m out \u001b[38;5;241m=\u001b[39m simple_backprojection(radon_transform)\n",
      "File \u001b[0;32m~/opt/miniconda3/lib/python3.9/site-packages/skimage/transform/radon_transform.py:59\u001b[0m, in \u001b[0;36mradon\u001b[0;34m(image, theta, circle, preserve_range)\u001b[0m\n\u001b[1;32m     16\u001b[0m \u001b[38;5;28;01mdef\u001b[39;00m \u001b[38;5;21mradon\u001b[39m(image, theta\u001b[38;5;241m=\u001b[39m\u001b[38;5;28;01mNone\u001b[39;00m, circle\u001b[38;5;241m=\u001b[39m\u001b[38;5;28;01mTrue\u001b[39;00m, \u001b[38;5;241m*\u001b[39m, preserve_range\u001b[38;5;241m=\u001b[39m\u001b[38;5;28;01mFalse\u001b[39;00m):\n\u001b[1;32m     17\u001b[0m     \u001b[38;5;124;03m\"\"\"\u001b[39;00m\n\u001b[1;32m     18\u001b[0m \u001b[38;5;124;03m    Calculates the radon transform of an image given specified\u001b[39;00m\n\u001b[1;32m     19\u001b[0m \u001b[38;5;124;03m    projection angles.\u001b[39;00m\n\u001b[0;32m   (...)\u001b[0m\n\u001b[1;32m     57\u001b[0m \n\u001b[1;32m     58\u001b[0m \u001b[38;5;124;03m    \"\"\"\u001b[39;00m\n\u001b[0;32m---> 59\u001b[0m     \u001b[38;5;28;01mif\u001b[39;00m \u001b[43mimage\u001b[49m\u001b[38;5;241;43m.\u001b[39;49m\u001b[43mndim\u001b[49m \u001b[38;5;241m!=\u001b[39m \u001b[38;5;241m2\u001b[39m:\n\u001b[1;32m     60\u001b[0m         \u001b[38;5;28;01mraise\u001b[39;00m \u001b[38;5;167;01mValueError\u001b[39;00m(\u001b[38;5;124m'\u001b[39m\u001b[38;5;124mThe input image must be 2-D\u001b[39m\u001b[38;5;124m'\u001b[39m)\n\u001b[1;32m     61\u001b[0m     \u001b[38;5;28;01mif\u001b[39;00m theta \u001b[38;5;129;01mis\u001b[39;00m \u001b[38;5;28;01mNone\u001b[39;00m:\n",
      "File \u001b[0;32m~/opt/miniconda3/lib/python3.9/site-packages/pydicom/dataset.py:834\u001b[0m, in \u001b[0;36mDataset.__getattr__\u001b[0;34m(self, name)\u001b[0m\n\u001b[1;32m    832\u001b[0m     \u001b[38;5;28;01mreturn\u001b[39;00m {}\n\u001b[1;32m    833\u001b[0m \u001b[38;5;66;03m# Try the base class attribute getter (fix for issue 332)\u001b[39;00m\n\u001b[0;32m--> 834\u001b[0m \u001b[38;5;28;01mreturn\u001b[39;00m \u001b[38;5;28;43mobject\u001b[39;49m\u001b[38;5;241;43m.\u001b[39;49m\u001b[38;5;21;43m__getattribute__\u001b[39;49m\u001b[43m(\u001b[49m\u001b[38;5;28;43mself\u001b[39;49m\u001b[43m,\u001b[49m\u001b[43m \u001b[49m\u001b[43mname\u001b[49m\u001b[43m)\u001b[49m\n",
      "\u001b[0;31mAttributeError\u001b[0m: 'FileDataset' object has no attribute 'ndim'"
     ]
    }
   ],
   "source": [
    "def simple_backprojection(radon_transform, theta=None, output_size=256 ):\n",
    "    # radon_transform: pass as input, the radon transform of the desired image, it has the shape (number of detectors, number of projections)\n",
    "    # theta: Number of projections taken while obtaining the radon transform, for instance, if 984 projections are taken while covering an angle from 0 to 2pi, theta will be: np.linspace(0, 360, 984, endpoint=False)\n",
    "\n",
    "    if theta is None:\n",
    "        theta = np.linspace(0, 180, radon_transform.shape[1], endpoint=False)\n",
    "\n",
    "    # store number of projections in the variable: angles_count\n",
    "    angles_count = 100  \n",
    "\n",
    "    interpolation = 'linear'\n",
    "\n",
    "    # convert radon_image to np.float32\n",
    "    radon_transform = radon_transform.astype(np.float32)\n",
    "\n",
    "\n",
    "\n",
    "    #######################################################\n",
    "    dtype = radon_transform.dtype\n",
    "\n",
    "    img_shape = radon_transform.shape[0]\n",
    "\n",
    "\n",
    "    if output_size is None:\n",
    "        # If output size not specified, estimate from input radon image\n",
    "        output_size = int(np.floor(np.sqrt((img_shape) ** 2 / 2.0)))\n",
    "    #######################################################\n",
    "\n",
    "\n",
    "\n",
    "    # Reconstruct image by interpolation\n",
    "    # create a variable reconstructed of size output_size x output_size with the same dtype as the radon_transform and initialize all values in it to zero\n",
    "    reconstructed = np.zeros((output_size, output_size), dtype=radon_transform.dtype)\n",
    "    \n",
    "\n",
    "    ##### Here we create a grid, your job is to backproject the radon transform on this grid #####\n",
    "    radius = output_size // 2\n",
    "    xpr, ypr = np.mgrid[:output_size, :output_size] - radius\n",
    "    x = np.arange(img_shape) - img_shape // 2\n",
    "\n",
    "    ### Backprojection ###\n",
    "    # each column in the radon transform represents a projection along a given angle theta\n",
    "    # the number of rays in each such projection is equal to the number of detectors (first dimension of radon_transform) \n",
    "    # for each projection, you have the ray sum along each detector -> 1 point in the radon transform, \n",
    "    # you have to backproject this point on a cartesian grid so we can see the reconstructed image\n",
    "\n",
    "    # the grid has been made for you, it is stored in the variables xpr and ypr  \n",
    "    # representing the x and y coordinates of each point in the grid\n",
    "\n",
    "    # iterate over each column in the radon transform and backproject it on the grid\n",
    "    for i in range(radon_transform.shape[1]):\n",
    "        column = radon_transform[:,i]\n",
    "        # use interpolation to obtain values corresponding to EXACT points on the grid\n",
    "        for i in range(len(xpr)):\n",
    "            x = xpr[i]\n",
    "            y = ypr[i]\n",
    "        \n",
    "            backprojected_value = griddata((xpr,ypr), projection_column, (x, y), method='linear')\n",
    "            \n",
    "            # After obtaining the interpolated points, simply add them to the reconstructed variable created earlier\n",
    "            reconstructed_image[i] += backprojected_value\n",
    "        \n",
    "    return reconstructed * np.pi / (2 * angles_count)\n",
    "\n",
    "## load the input and store in a variable named inp\n",
    "inp = dicom.dcmread('../data/ct_covid_lung/CT-7358-0014.dcm')\n",
    "\n",
    "## load the radon transform of the input and store in a variable named radon_transform\n",
    "radon_transform = radon(inp)\n",
    "\n",
    "# call the function simple_backprojection with the appropriate parameters and store the output in a variable named out\n",
    "out = simple_backprojection(radon_transform)\n",
    "\n",
    "#### This is just for visualization and scoring, you don't have to do anything here ####\n",
    "# normalize both\n",
    "inp = inp.astype(np.float32)\n",
    "inp = (inp - inp.min()) / (inp.max() - inp.min())\n",
    "out = (out - out.min()) / (out.max() - out.min())\n",
    "\n",
    "plt.imshow(out, cmap='gray')\n",
    "plt.show()\n",
    "print(f\"MSE: {mean_squared_error(inp, out)}\")\n",
    "print(f\"PSNR: {peak_signal_noise_ratio(inp, out)}\")"
   ]
  },
  {
   "cell_type": "code",
   "execution_count": null,
   "metadata": {},
   "outputs": [],
   "source": []
  }
 ],
 "metadata": {
  "kernelspec": {
   "display_name": "Python 3 (ipykernel)",
   "language": "python",
   "name": "python3"
  },
  "language_info": {
   "codemirror_mode": {
    "name": "ipython",
    "version": 3
   },
   "file_extension": ".py",
   "mimetype": "text/x-python",
   "name": "python",
   "nbconvert_exporter": "python",
   "pygments_lexer": "ipython3",
   "version": "3.9.12"
  }
 },
 "nbformat": 4,
 "nbformat_minor": 2
}
