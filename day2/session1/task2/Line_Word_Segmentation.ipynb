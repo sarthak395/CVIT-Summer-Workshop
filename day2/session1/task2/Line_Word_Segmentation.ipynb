{
  "cells": [
    {
      "cell_type": "markdown",
      "metadata": {
        "id": "SOJ9CD9xZo54"
      },
      "source": [
        "# CVIT Orientation : Problem Statement\n",
        "\n",
        "Line & Word level segementation in documents is an important task for extracting text ( OCR ) task . \n",
        "\n",
        "In the following case , we take a look at different printed documents and try to extract charecter line segment and word level arguments. \n",
        "\n",
        "References : \n",
        "1.https://pyimagesearch.com/2021/04/28/opencv-morphological-operations/\n"
      ]
    },
    {
      "cell_type": "code",
      "source": [
        "from google.colab import drive\n",
        "drive.mount('/content/drive')"
      ],
      "metadata": {
        "colab": {
          "base_uri": "https://localhost:8080/"
        },
        "id": "t4WfOMpDXzb3",
        "outputId": "019b41ce-cd36-496e-83ec-e76d46891ca9"
      },
      "execution_count": 1,
      "outputs": [
        {
          "output_type": "stream",
          "name": "stdout",
          "text": [
            "Mounted at /content/drive\n"
          ]
        }
      ]
    },
    {
      "cell_type": "code",
      "execution_count": 9,
      "metadata": {
        "id": "1Z9i8u-eZ9Bv"
      },
      "outputs": [],
      "source": [
        "import os \n",
        "import cv2 \n",
        "import numpy as np\n",
        "from matplotlib import pyplot as plt\n",
        "from google.colab.patches import cv2_imshow"
      ]
    },
    {
      "cell_type": "code",
      "execution_count": 3,
      "metadata": {
        "id": "Pbm0WuIjeNGK"
      },
      "outputs": [],
      "source": [
        "PATH_MEDIUM = '/content/drive/MyDrive/cvimages/day2/images 2/test_tamil.jpg'\n",
        "PATH_LINE_EXAMPLE = '/content/drive/MyDrive/cvimages/day2/images 2/test_sanskrit.png'\n",
        "PATH_HARDEST = '/content/drive/MyDrive/cvimages/day2/images 2/test.jpeg'"
      ]
    },
    {
      "cell_type": "code",
      "source": [
        "test_tamil = cv2.imread(PATH_MEDIUM)\n",
        "cv2_imshow(test_tamil)"
      ],
      "metadata": {
        "id": "6yfxqM1sYqza"
      },
      "execution_count": null,
      "outputs": []
    },
    {
      "cell_type": "code",
      "execution_count": 4,
      "metadata": {
        "id": "vPuP4OB2_r1g"
      },
      "outputs": [],
      "source": [
        "# Idea is to leverage different morphological filters\n",
        "def textdilationElementWise(binary_image,iterations=3):\n",
        "  '''\n",
        "  binary image : text = 1 bg = 0 \n",
        "  '''\n",
        "  # Small local kernel that tickens the existing text more closely\n",
        "  text_kernel = np.ones((3,3))\n",
        "  dilated_image = cv2.dilate(binary_image,text_kernel,iterations)\n",
        "  return dilated_image\n",
        "\n",
        "\n",
        "def rectangledilation(binary_image,H,W,iterations=3):\n",
        "  '''\n",
        "  binary image : text = 1 bg = 0 \n",
        "  '''\n",
        "  # Small local kernel that tickens the existing text more closely\n",
        "  rectange_kernel = cv2.getStructuringElement(cv2.MORPH_RECT,(H,W))\n",
        "  dilated_image = cv2.dilate(binary_image,rectange_kernel,iterations)\n",
        "  return dilated_image\n",
        "\n",
        "def erosionOperation(binary_image,H,W,iterations=3):\n",
        "  # Small local kernel that erodes vertically\n",
        "  rectange_kernel = cv2.getStructuringElement(cv2.MORPH_RECT,(H,W))\n",
        "  eroded_image = cv2.erode(binary_image,rectange_kernel,iterations)\n",
        "  return eroded_image\n",
        "\n",
        "def crossErosion(binary_image,iterations=2):\n",
        "  cross_kernel= cv2.getStructuringElement(cv2.MORPH_CROSS,(5,5))\n",
        "  cross_eroded_image = cv2.erode(binary_image,cross_kernel,iterations)\n",
        "  return cross_eroded_image\n"
      ]
    },
    {
      "cell_type": "code",
      "execution_count": 5,
      "metadata": {
        "id": "kjGRsEI9ebgT"
      },
      "outputs": [],
      "source": [
        "\n",
        "def binarize_and_word_detect_contours(image_path):\n",
        "    # Load the image\n",
        "    image = cv2.imread(image_path)\n",
        "    \n",
        "    # Convert the image to grayscale\n",
        "    gray = cv2.cvtColor(image, cv2.COLOR_BGR2GRAY)\n",
        "\n",
        "    blurred = cv2.GaussianBlur(gray, (5, 5), 0)\n",
        "    # Apply image denoising\n",
        "    denoised = cv2.fastNlMeansDenoising(blurred, None, h=10, templateWindowSize=7, searchWindowSize=21)\n",
        "    \n",
        "    # Apply binary thresholding\n",
        "    _, binary = cv2.threshold(denoised, 127, 255, cv2.THRESH_BINARY)\n",
        "\n",
        "    cv2_imshow(binary)\n",
        "    # text dilation \n",
        "    print('Thicker text')\n",
        "    thickTextDocument = textdilationElementWise(255-binary,iterations=5)\n",
        "    cv2_imshow(thickTextDocument)\n",
        "\n",
        "    print('Word level dilation')\n",
        "    wordTextDocument = rectangledilation(thickTextDocument,H=7,W=3,iterations=3)\n",
        "    cv2_imshow(wordTextDocument)\n",
        "\n",
        "    # print('Dilation Operation to join cuts within word blobs')\n",
        "    # closeDocument = textdilationElementWise(wordTextDocument,iterations=3)\n",
        "    # cv2_imshow(closeDocument)\n",
        "\n",
        "    # print('Cross Kernel Erosion : To further split interline blobs')\n",
        "    # crossErodedDocument = crossErosion(closeDocument,iterations=3)\n",
        "    # cv2_imshow(crossErodedDocument)\n",
        "\n",
        "    # Find contours in the binary image\n",
        "    contours, _ = cv2.findContours(wordTextDocument,cv2.RETR_EXTERNAL, cv2.CHAIN_APPROX_SIMPLE)\n",
        "\n",
        "    # Filter out the extremely small boxes based on area threshold \n",
        "    areaThreshold = 5\n",
        "    finalContours = [ c for c in contours if cv2.contourArea(c)>areaThreshold ]\n",
        "    \n",
        "    # Draw contours on the original image\n",
        "    image_with_contours = cv2.drawContours(image.copy(),finalContours, -1, (0, 255, 0), 2)\n",
        "    image_with_boxes = image.copy()\n",
        "    for contour in finalContours:\n",
        "      # Find the bounding box coordinates\n",
        "      x, y, w, h = cv2.boundingRect(contour)\n",
        "      # Draw the bounding box on the image\n",
        "      cv2.rectangle(image_with_boxes, (x, y), (x + w, y + h), (0,0,255),3)\n",
        "\n",
        "    \n",
        "    # Display the original image and the image with contours\n",
        "    print('Image With Contours')\n",
        "    cv2_imshow(image_with_contours)\n",
        "\n",
        "    # Display the original image and the image with contours\n",
        "    print('Image With Boxes')\n",
        "    cv2_imshow(image_with_boxes)\n",
        "\n",
        "    # Save them in the directory \n",
        "    _,imgName = os.path.split(image_path)\n",
        "    cv2.imwrite('wordlevel_contours_'+imgName,image_with_contours)\n",
        "    cv2.imwrite('wordlevel_boxes_'+imgName,image_with_boxes)\n",
        "\n"
      ]
    },
    {
      "cell_type": "code",
      "execution_count": null,
      "metadata": {
        "id": "Zv72eWTtZHhZ"
      },
      "outputs": [],
      "source": [
        "# Usage example\n",
        "binarize_and_word_detect_contours(PATH_LINE_EXAMPLE)"
      ]
    },
    {
      "cell_type": "code",
      "execution_count": 7,
      "metadata": {
        "id": "vnFBJesV_Qv_"
      },
      "outputs": [],
      "source": [
        "def binarize_and_line_detect_contours(image_path):\n",
        "    # Load the image\n",
        "    image = cv2.imread(image_path)\n",
        "    \n",
        "    # Convert the image to grayscale\n",
        "    gray = cv2.cvtColor(image, cv2.COLOR_BGR2GRAY)\n",
        "\n",
        "    blurred = cv2.GaussianBlur(gray, (5, 5), 0)\n",
        "    # Apply image denoising\n",
        "    denoised = cv2.fastNlMeansDenoising(blurred, None, h=10, templateWindowSize=7, searchWindowSize=21)\n",
        "    \n",
        "    # Apply binary thresholding\n",
        "    _, binary = cv2.threshold(denoised, 127, 255, cv2.THRESH_BINARY)\n",
        "\n",
        "    cv2_imshow(binary)\n",
        "    # text dilation \n",
        "    print('Thicker text')\n",
        "    thickTextDocument = textdilationElementWise(255-binary,iterations=5)\n",
        "    cv2_imshow(thickTextDocument)\n",
        "\n",
        "    print('Line Level Dilation')\n",
        "\n",
        "    # search the phrases\n",
        "    dilatation_type = cv2.MORPH_RECT\n",
        "    horizontal_dilatation = 5 \n",
        "    vertical_dilatation = 0\n",
        "    element = cv2.getStructuringElement(dilatation_type, (2*horizontal_dilatation + 1, 2*vertical_dilatation+1), (horizontal_dilatation, vertical_dilatation))\n",
        "    dilatation_thresh = cv2.dilate(thickTextDocument,element,iterations=1)\n",
        "\n",
        "    # Fill\n",
        "    filled_tresh = dilatation_thresh.copy()\n",
        "    contours, hierarchy = cv2.findContours(dilatation_thresh, cv2.RETR_EXTERNAL, cv2.CHAIN_APPROX_NONE)\n",
        "\n",
        "    for cnt in contours:\n",
        "        cv2.drawContours(filled_tresh, [cnt], -1, 255, cv2.FILLED)\n",
        "    \n",
        "\n",
        "    # Connect these disconnected blobs further \n",
        "    print('Line level dilation')\n",
        "    lineTextDocument = rectangledilation(filled_tresh,H=31,W=1,iterations=1)\n",
        "    cv2_imshow(lineTextDocument)\n",
        "\n",
        "    # Cross Filter : Erosion \n",
        "    lineTextDocument = crossErosion(lineTextDocument,iterations=10)\n",
        "    print('Line erosion')\n",
        "    cv2_imshow(lineTextDocument)\n",
        "\n",
        "    # Find contours in the binary image\n",
        "    contours, _ = cv2.findContours(lineTextDocument,cv2.RETR_EXTERNAL, cv2.CHAIN_APPROX_SIMPLE)\n",
        "  \n",
        "    # Filter out the extremely small boxes based on area threshold \n",
        "    areaThreshold = 1000\n",
        "    finalContours = [ c for c in contours if cv2.contourArea(c)>areaThreshold ]\n",
        "    \n",
        "    # Draw contours on the original image\n",
        "    image_with_contours = cv2.drawContours(image.copy(),finalContours, -1, (255,0,0),3)\n",
        "    image_with_boxes = image.copy()\n",
        "\n",
        "    for contour in finalContours:\n",
        "      # Find the bounding box coordinates\n",
        "      x, y, w, h = cv2.boundingRect(contour)\n",
        "      # Draw the bounding box on the image\n",
        "      cv2.rectangle(image_with_boxes, (x, y), (x + w, y + h), (0,0,255),3)\n",
        "\n",
        "    \n",
        "    # Display the original image and the image with contours\n",
        "    print('Image With Contours')\n",
        "    cv2_imshow(image_with_contours)\n",
        "\n",
        "    # Display the original image and the image with contours\n",
        "    print('Image With Boxes')\n",
        "    cv2_imshow(image_with_boxes)\n",
        "\n",
        "    # # Save them in the directory \n",
        "    # _,imgName = os.path.split(image_path)\n",
        "    # cv2.imwrite('linelevel_contours_'+imgName,image_with_contours)\n",
        "    # cv2.imwrite('linelevel_boxes_'+imgName,image_with_boxes)\n",
        "\n"
      ]
    },
    {
      "cell_type": "code",
      "execution_count": null,
      "metadata": {
        "id": "APiTKw2K1Uy0"
      },
      "outputs": [],
      "source": [
        "# Usage example ( easy - less dense example )\n",
        "binarize_and_line_detect_contours('/content/drive/MyDrive/cvimages/day2/images 2/test_tamil.jpg')"
      ]
    },
    {
      "cell_type": "code",
      "source": [],
      "metadata": {
        "id": "-Bwjv2zbgC09"
      },
      "execution_count": null,
      "outputs": []
    }
  ],
  "metadata": {
    "accelerator": "GPU",
    "colab": {
      "provenance": [],
      "gpuType": "T4"
    },
    "gpuClass": "standard",
    "kernelspec": {
      "display_name": "Python 3",
      "name": "python3"
    },
    "language_info": {
      "name": "python"
    }
  },
  "nbformat": 4,
  "nbformat_minor": 0
}