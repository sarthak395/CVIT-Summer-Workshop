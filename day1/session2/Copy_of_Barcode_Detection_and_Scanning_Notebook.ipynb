{
  "nbformat": 4,
  "nbformat_minor": 0,
  "metadata": {
    "colab": {
      "provenance": []
    },
    "kernelspec": {
      "name": "python3",
      "display_name": "Python 3"
    },
    "language_info": {
      "name": "python"
    }
  },
  "cells": [
    {
      "cell_type": "markdown",
      "source": [
        "# Barcode Detection and Scanning\n",
        "\n",
        "In this session, you are required to implement a basic barcode scanner using image various image processing methods. \n",
        "\n",
        "We will be using python's OpenCV library (cv2) for the purpose of preforming image processing tasks."
      ],
      "metadata": {
        "id": "hTchjSi7BGtZ"
      }
    },
    {
      "cell_type": "code",
      "source": [
        "import numpy as np\n",
        "import cv2\n",
        "from google.colab.patches import cv2_imshow\n",
        "import math\n",
        "from collections import defaultdict\n",
        "from matplotlib import pyplot as plt"
      ],
      "metadata": {
        "id": "7GU9nrR6Wt3J"
      },
      "execution_count": 1,
      "outputs": []
    },
    {
      "cell_type": "markdown",
      "source": [
        "Please download the image 'input.png' from the given link (https://drive.google.com/file/d/1oQSxTCFiJ2yI7LsmQE3grrYKAdKWPj6Q/view?usp=share_link) and upload it to the current directory of this colab session."
      ],
      "metadata": {
        "id": "YczSmKfm-4gK"
      }
    },
    {
      "cell_type": "markdown",
      "source": [
        "# Barcode Detection"
      ],
      "metadata": {
        "id": "Wpzb__8GRdvz"
      }
    },
    {
      "cell_type": "code",
      "source": [
        "original = cv2.imread('./input.png')\n",
        "image = original.copy()\n",
        "image = cv2.cvtColor(image, cv2.COLOR_BGR2GRAY)\n",
        "\n",
        "cv2_imshow(image)"
      ],
      "metadata": {
        "id": "-ueSBzdgd-zP",
        "colab": {
          "base_uri": "https://localhost:8080/",
          "height": 170
        },
        "outputId": "5b8d0d3a-a906-4626-cad2-77178b5bf85d"
      },
      "execution_count": 5,
      "outputs": [
        {
          "output_type": "display_data",
          "data": {
            "text/plain": [
              "<PIL.Image.Image image mode=L size=566x153 at 0x7FA8ED934CA0>"
            ],
            "image/png": "[encoded data removed]"
          },
          "metadata": {}
        }
      ]
    },
    {
      "cell_type": "markdown",
      "source": [
        "Resize the input.png image using cv2.resize() and the show the resized image using cv2_imshow() (which is the colab compatible equivalent for the command cv2.imshow() of OpenCV).\n",
        "\n",
        "Feel free to look up for the syntaxes on google. :)"
      ],
      "metadata": {
        "id": "iygWOvONCfV9"
      }
    },
    {
      "cell_type": "markdown",
      "source": [
        "We resize the image to have fewer pixels to process and to have computational efficiency"
      ],
      "metadata": {
        "id": "DcG4XhQNSEmp"
      }
    },
    {
      "cell_type": "code",
      "source": [
        "image = cv2.resize(image,None,fx=0.7, fy=0.7, interpolation = cv2.INTER_CUBIC)\n",
        "original = cv2.resize(original,None,fx=0.7, fy=0.7, interpolation = cv2.INTER_CUBIC)\n",
        "\n",
        "cv2_imshow(image)\n",
        "cv2_imshow(original)"
      ],
      "metadata": {
        "id": "nUdu4pvYeJgx",
        "colab": {
          "base_uri": "https://localhost:8080/",
          "height": 231
        },
        "outputId": "b0509267-ce47-4551-ed9c-cda1a2512355"
      },
      "execution_count": 6,
      "outputs": [
        {
          "output_type": "display_data",
          "data": {
            "text/plain": [
              "<PIL.Image.Image image mode=L size=396x107 at 0x7FA8C8A61A80>"
            ],
            "image/png": "[encoded data removed]"
          },
          "metadata": {}
        },
        {
          "output_type": "display_data",
          "data": {
            "text/plain": [
              "<PIL.Image.Image image mode=RGB size=396x107 at 0x7FA8ECC1E110>"
            ],
            "image/png": "[encoded data removed]"
          },
          "metadata": {}
        }
      ]
    },
    {
      "cell_type": "markdown",
      "source": [
        "Calculate the gradients in x and y directions using cv2.Sobel(). \n",
        "\n",
        "Set ksize = -1 to use the **Scharr Operator**."
      ],
      "metadata": {
        "id": "3pIRmh2rGwGg"
      }
    },
    {
      "cell_type": "markdown",
      "source": [
        "Sobel filters compute the gradient of pixels in the image which are helpful in edge detection which a barcode typically has . They calculate horizontal and vertical gradient which signifiy intensity change in these directions"
      ],
      "metadata": {
        "id": "oj6vWgb9Sg6b"
      }
    },
    {
      "cell_type": "code",
      "source": [
        "# one can experiment with different ddepths\n",
        "gradX = cv2.Sobel(image, ddepth = cv2.CV_32F, dx = 1, dy = 0, ksize=-1)\n",
        "gradY = cv2.Sobel(image, ddepth = cv2.CV_32F, dx = 0, dy = 1, ksize=-1)"
      ],
      "metadata": {
        "id": "8DnBHp5ETYQu"
      },
      "execution_count": 9,
      "outputs": []
    },
    {
      "cell_type": "markdown",
      "source": [
        "Show gradX and gradY using cv2_imshow()."
      ],
      "metadata": {
        "id": "H6tLKhcsHjmZ"
      }
    },
    {
      "cell_type": "code",
      "source": [
        "#Display gradX using cv2_imshow()\n",
        "cv2_imshow(gradX)"
      ],
      "metadata": {
        "id": "d5R4foXjkxUf",
        "colab": {
          "base_uri": "https://localhost:8080/",
          "height": 124
        },
        "outputId": "2c26d823-06b5-407d-9aad-bb643c8d20ea"
      },
      "execution_count": 10,
      "outputs": [
        {
          "output_type": "display_data",
          "data": {
            "text/plain": [
              "<PIL.Image.Image image mode=L size=396x107 at 0x7FA8BCCD4EE0>"
            ],
            "image/png": "[encoded data removed]"
          },
          "metadata": {}
        }
      ]
    },
    {
      "cell_type": "code",
      "source": [
        "#Display gradY using cv2_imshow()\n",
        "cv2_imshow(gradY)\n"
      ],
      "metadata": {
        "id": "3FlfxEJ1kxfm",
        "colab": {
          "base_uri": "https://localhost:8080/",
          "height": 124
        },
        "outputId": "25cdbd86-0bf6-4e24-b3d4-82da4b0bcdf4"
      },
      "execution_count": 11,
      "outputs": [
        {
          "output_type": "display_data",
          "data": {
            "text/plain": [
              "<PIL.Image.Image image mode=L size=396x107 at 0x7FA8BCCD4160>"
            ],
            "image/png": "[encoded data removed]"
          },
          "metadata": {}
        }
      ]
    },
    {
      "cell_type": "markdown",
      "source": [
        "Calculate the magnitude of gradients as below.\n",
        "\n",
        "*   $gradient = \\sqrt{(gradX)^2 + (gradY)^2}$.\n",
        "\n",
        "use cv2.sqrt() and cv2.add() for this purpose."
      ],
      "metadata": {
        "id": "RcxwFr-LLkk5"
      }
    },
    {
      "cell_type": "code",
      "source": [
        "gradient = cv2.sqrt(cv2.add(gradX*gradX,gradY*gradY))\n",
        "# we can also add their absolute values\n",
        "# gradient = cv2.add(cv2.sqrt(gradX*gradX),cv2.sqrt(gradY*gradY))"
      ],
      "metadata": {
        "id": "DqEcEGGBhL5x"
      },
      "execution_count": 21,
      "outputs": []
    },
    {
      "cell_type": "code",
      "source": [
        "gradient = cv2.convertScaleAbs(gradient) # Converts the output to an 8-bit representation"
      ],
      "metadata": {
        "id": "1lapBcqOM5Q-"
      },
      "execution_count": 22,
      "outputs": []
    },
    {
      "cell_type": "code",
      "source": [
        "# Display the computed gradient image using cv2_imshow()\n",
        "cv2_imshow(gradient)"
      ],
      "metadata": {
        "id": "8z1QtJ3nMsB-",
        "colab": {
          "base_uri": "https://localhost:8080/",
          "height": 124
        },
        "outputId": "16751e10-f5dc-47b1-a00c-fe648cfc3a27"
      },
      "execution_count": 23,
      "outputs": [
        {
          "output_type": "display_data",
          "data": {
            "text/plain": [
              "<PIL.Image.Image image mode=L size=396x107 at 0x7FA8C88F9A80>"
            ],
            "image/png": "[encoded data removed]"
          },
          "metadata": {}
        }
      ]
    },
    {
      "cell_type": "markdown",
      "source": [
        "Blur the gradient image using cv2.blur(). Use a $3 \\times 3$ kernel for the the same.\n",
        "\n",
        "Further, perform binary thresholding on the blurred image using cv2.threshold(). Use the threshold value of 225, i.e. values below 225 should be mapped to 0, and the values greater than or equal to 225 should be mapped to 255."
      ],
      "metadata": {
        "id": "RQDzc-scNP_4"
      }
    },
    {
      "cell_type": "markdown",
      "source": [
        "Smoothing or Blurring is required to remove the extra noise and detail from the image and focus on its structural part"
      ],
      "metadata": {
        "id": "3xy0JyQlXGQT"
      }
    },
    {
      "cell_type": "markdown",
      "source": [
        "Thresholding here will help us seperate the foreground from the background of the image"
      ],
      "metadata": {
        "id": "Js4pL_qxY5uF"
      }
    },
    {
      "cell_type": "code",
      "source": [
        "# Average blurring : One can play around with kernel sizes . As we increase size , blurring increases\n",
        "blurred = cv2.blur(gradient , (3,3))# Blur the gradient image using cv2.blur() with a 3*3 kernel\n",
        "# # Gaussian Blurring\n",
        "# blurred = cv2.GaussianBlur(gradient, (3, 3), 0)\n",
        "cv2_imshow(blurred)\n",
        "\n",
        "(_, thresh) = cv2.threshold(blurred, 225, 255,cv2.THRESH_BINARY)# Perform binary thresholding on the blurred image with a threshold value of 225"
      ],
      "metadata": {
        "id": "AGBEiMZLfAPh",
        "colab": {
          "base_uri": "https://localhost:8080/",
          "height": 124
        },
        "outputId": "823296f3-73f0-404c-e518-4fd9b49d29b2"
      },
      "execution_count": 48,
      "outputs": [
        {
          "output_type": "display_data",
          "data": {
            "text/plain": [
              "<PIL.Image.Image image mode=L size=396x107 at 0x7FA8B4276710>"
            ],
            "image/png": "[encoded data removed]"
          },
          "metadata": {}
        }
      ]
    },
    {
      "cell_type": "code",
      "source": [
        "# Display the thresholded image (thresh) of gradients using cv2_imshow()\n",
        "cv2_imshow(thresh)"
      ],
      "metadata": {
        "id": "_WggbNULNHuH",
        "colab": {
          "base_uri": "https://localhost:8080/",
          "height": 124
        },
        "outputId": "f77aa111-8b95-426c-95c8-cced349a6da0"
      },
      "execution_count": 49,
      "outputs": [
        {
          "output_type": "display_data",
          "data": {
            "text/plain": [
              "<PIL.Image.Image image mode=L size=396x107 at 0x7FA8BCCD4C70>"
            ],
            "image/png": "[encoded data removed]"
          },
          "metadata": {}
        }
      ]
    },
    {
      "cell_type": "markdown",
      "source": [
        "Create a rectangular kernel of Width = 21 and Height = 7 using cv2.getStructuringElement() along with cv2.MORPH_RECT.\n",
        "\n",
        "Make sure that the dimensions are written in (Width, Height) format.\n",
        "\n",
        "Further, using this kernel, perform the morphological closing operation on the image \"thresh\" using cv2.morphologyEx() along with cv2.MORPH_CLOSE."
      ],
      "metadata": {
        "id": "lUHLKSVVPMHn"
      }
    },
    {
      "cell_type": "markdown",
      "source": [
        "Closing operation is done to close small gaps in the image and provide stricter boundaries. It is a combination of dilation and erosion"
      ],
      "metadata": {
        "id": "uJlMxkE3ZwOL"
      }
    },
    {
      "cell_type": "code",
      "source": [
        "kernel_size = (21,7)\n",
        "# Define a rectangular kernal with W = 21 and H = 7\n",
        "kernel = cv2.getStructuringElement(cv2.MORPH_RECT, kernel_size)\n",
        "closed = cv2.morphologyEx(thresh, cv2.MORPH_CLOSE, kernel) # Perform the morphological closing operation on \"thresh\" using the above kernel"
      ],
      "metadata": {
        "id": "rN2s_H_eNPZ8"
      },
      "execution_count": 50,
      "outputs": []
    },
    {
      "cell_type": "code",
      "source": [
        "# Display the closed image using cv2_imshow()\n",
        "cv2_imshow(closed)"
      ],
      "metadata": {
        "id": "uM4YcNF-ZqVz",
        "colab": {
          "base_uri": "https://localhost:8080/",
          "height": 124
        },
        "outputId": "938c7147-00bf-4292-a52a-856227aed728"
      },
      "execution_count": 51,
      "outputs": [
        {
          "output_type": "display_data",
          "data": {
            "text/plain": [
              "<PIL.Image.Image image mode=L size=396x107 at 0x7FA8C88FB460>"
            ],
            "image/png": "[encoded data removed]"
          },
          "metadata": {}
        }
      ]
    },
    {
      "cell_type": "markdown",
      "source": [
        "We further dilate the closed image and find the region with the maximum area."
      ],
      "metadata": {
        "id": "Tks76qQIa3rM"
      }
    },
    {
      "cell_type": "code",
      "source": [
        "closed = cv2.dilate(closed, None, iterations = 7) # Performs dilation operation on the closed image\n",
        "cnts,hierarchy = cv2.findContours(closed.copy(), cv2.RETR_EXTERNAL,cv2.CHAIN_APPROX_SIMPLE)[-2:]\n",
        "c = sorted(cnts, key = cv2.contourArea, reverse = True)[0] # Finds the region with maximum area"
      ],
      "metadata": {
        "id": "wJUbID26ZqiJ"
      },
      "execution_count": 52,
      "outputs": []
    },
    {
      "cell_type": "markdown",
      "source": [
        "We now bound the region of maximum area with a recangular bounding box."
      ],
      "metadata": {
        "id": "qwxW1p0FcIVd"
      }
    },
    {
      "cell_type": "code",
      "source": [
        "rect = cv2.minAreaRect(c) # Fits a minimum area rectangle over the region with maximum area, hence creating a rectangular bounding box around the barcode\n",
        "box = np.int0(cv2.boxPoints(rect))"
      ],
      "metadata": {
        "id": "LI9Tsuq3TcMj"
      },
      "execution_count": 53,
      "outputs": []
    },
    {
      "cell_type": "markdown",
      "source": [
        "Result of Barcode detection (the red bounding box denotes the output of barcode detection)."
      ],
      "metadata": {
        "id": "AcNSg60Tcqs8"
      }
    },
    {
      "cell_type": "code",
      "source": [
        "img = original.copy()\n",
        "cv2.drawContours(img, [box], -1, (0, 0, 255), 1)\n",
        "cv2_imshow(img)"
      ],
      "metadata": {
        "id": "Xjy6rO6vS649",
        "colab": {
          "base_uri": "https://localhost:8080/",
          "height": 124
        },
        "outputId": "2f36858b-e5f3-4ac3-f7d5-29fdbcdaf405"
      },
      "execution_count": 54,
      "outputs": [
        {
          "output_type": "display_data",
          "data": {
            "text/plain": [
              "<PIL.Image.Image image mode=RGB size=396x107 at 0x7FA8B43EA7D0>"
            ],
            "image/png": "[encoded data removed]"
          },
          "metadata": {}
        }
      ]
    },
    {
      "cell_type": "code",
      "source": [
        "# This function crops the bounding box\n",
        "def getSubImage(rect, src):\n",
        "    center, size, theta = rect \n",
        "    size = [size[1],size[0]]\n",
        "    center, size = tuple(map(int, center)), tuple(map(int, size))\n",
        "    # M = cv2.getRotationMatrix2D( center, theta, 1) # we can do rotation\n",
        "    # dst = cv2.warpAffine(src, M, [src.shape[1],src.shape[0]]) # for doing such a rotation\n",
        "    out = cv2.getRectSubPix(src, size, center)\n",
        "    return out"
      ],
      "metadata": {
        "id": "7AwW1JEFsy18"
      },
      "execution_count": 65,
      "outputs": []
    },
    {
      "cell_type": "markdown",
      "source": [
        "Result after cropping the bounding box:"
      ],
      "metadata": {
        "id": "xXsSi2_pdGx4"
      }
    },
    {
      "cell_type": "code",
      "source": [
        "out = getSubImage(rect, image)\n",
        "cv2_imshow(out)"
      ],
      "metadata": {
        "id": "GDTBDLOegQlF",
        "colab": {
          "base_uri": "https://localhost:8080/",
          "height": 115
        },
        "outputId": "cc6d763f-68ba-478c-9806-fd17e8f538c9"
      },
      "execution_count": 70,
      "outputs": [
        {
          "output_type": "display_data",
          "data": {
            "text/plain": [
              "<PIL.Image.Image image mode=L size=153x98 at 0x7FA8B4274220>"
            ],
            "image/png": "[encoded data removed]"
          },
          "metadata": {}
        }
      ]
    },
    {
      "cell_type": "markdown",
      "source": [
        "# Barcode Scanning"
      ],
      "metadata": {
        "id": "fBTj0fKcVeq8"
      }
    },
    {
      "cell_type": "code",
      "source": [
        "out = out.astype('uint8')\n",
        "out = cv2.cvtColor(out,cv2.COLOR_GRAY2RGB)\n",
        "cv2_imshow(out)"
      ],
      "metadata": {
        "id": "mfi-UWnC7-LL",
        "colab": {
          "base_uri": "https://localhost:8080/",
          "height": 115
        },
        "outputId": "d0e81c16-9f70-4b09-b424-aea6144e808d"
      },
      "execution_count": 71,
      "outputs": [
        {
          "output_type": "display_data",
          "data": {
            "text/plain": [
              "<PIL.Image.Image image mode=RGB size=153x98 at 0x7FA8B4277F70>"
            ],
            "image/png": "[encoded data removed]"
          },
          "metadata": {}
        }
      ]
    },
    {
      "cell_type": "code",
      "source": [
        "encoding_pattern ={\n",
        "        \"111111\":0,\n",
        "        \"110100\":1,\n",
        "        \"110010\":2,\n",
        "        \"110001\":3,\n",
        "        \"101100\":4,\n",
        "        \"100110\":5,\n",
        "        \"100011\":6,\n",
        "        \"101010\":7,\n",
        "        \"101001\":8,\n",
        "        \"100101\":9\n",
        "}\n",
        "left=[\n",
        "    {\n",
        "        \"0100111\":0,\n",
        "        \"0110011\":1,\n",
        "        \"0011011\":2,\n",
        "        \"0100001\":3,\n",
        "        \"0011101\":4,\n",
        "        \"0111001\":5,\n",
        "        \"0000101\":6,\n",
        "        \"0010001\":7,\n",
        "        \"0001001\":8,\n",
        "        \"0010111\":9   \n",
        "    },\n",
        "    {\n",
        "        \"0001101\":0,\n",
        "        \"0011001\":1,\n",
        "        \"0010011\":2,\n",
        "        \"0111101\":3,\n",
        "        \"0100011\":4,\n",
        "        \"0110001\":5,\n",
        "        \"0101111\":6,\n",
        "        \"0111011\":7,\n",
        "        \"0110111\":8,\n",
        "        \"0001011\":9   \n",
        "    }\n",
        "]\n",
        "right = {\n",
        "        \"1110010\":0,\n",
        "        \"1100110\":1,\n",
        "        \"1101100\":2,\n",
        "        \"1000010\":3,\n",
        "        \"1011100\":4,\n",
        "        \"1001110\":5,\n",
        "        \"1010000\":6,\n",
        "        \"1000100\":7,\n",
        "        \"1001000\":8,\n",
        "        \"1110100\":9 \n",
        "}"
      ],
      "metadata": {
        "id": "s_BvQxCyF15O"
      },
      "execution_count": 95,
      "outputs": []
    },
    {
      "cell_type": "code",
      "source": [
        "# Write a function that takes in a 3-channel RGB image as input, converts it \n",
        "# into a 1-channel grayscale image, and returns the converted grayscale image.\n",
        "# Note that to convert an RGB image to grayscale, we take the weighted average\n",
        "# of the RGB components as Gray = 0.2989 * RED + 0.5870 * GREEN + 0.1140 * BLUE\n",
        "def rgb2gray(rgb):\n",
        "  # WRITE YOUR CODE HERE\n",
        "  out = 0.2989 * rgb[:,:,0] + 0.5870 * rgb[:,:,1] + 0.1140 * rgb[:,:,2]\n",
        "  return out\n",
        "\n",
        "# Write a function that takes a 1-channel grayscale image, and the thresholding value \n",
        "# as inputs, and performs binary thresholding on the input image with the given threshold.\n",
        "# i.e. if threshold is thrs, then all pixels with intensity < thrs should become 0, and \n",
        "# all pixels with intensity >= thrs should become 255\n",
        "def thresholding(img, thrs):\n",
        "  # WRITE YOUR CODE HERE\n",
        "  out = np.where(img < thrs,0,255)\n",
        "  return out\n",
        "\n",
        "# This function takes an RGB image as input, converts it into grayscale image, performs \n",
        "# binary thresholding on the grayscale image, and then finally returns the image.\n",
        "def binarise(pic, thrs):\n",
        "  img = rgb2gray(pic) # Converts the image from RGB to Grayscale\n",
        "  threshimg = thresholding(img, thrs) # Performs binary thresholding on the input image\n",
        "  return threshimg"
      ],
      "metadata": {
        "id": "ETOhXAF48Tgm"
      },
      "execution_count": 86,
      "outputs": []
    },
    {
      "cell_type": "code",
      "source": [
        "def primitive_crop(row):\n",
        "    indices = np.where(row == 0)[0]\n",
        "    if indices.shape[0] == 0:\n",
        "      return None\n",
        "    return row[indices[0]:indices[-1]+1]"
      ],
      "metadata": {
        "id": "42hTa9Jb8ZaJ"
      },
      "execution_count": 73,
      "outputs": []
    },
    {
      "cell_type": "code",
      "source": [
        "def convert_binary(bars,nlb):\n",
        "    '''If we get nlb 0s then it is a 1 , else it is a 0'''\n",
        "    binstring = ''\n",
        "    d = 1\n",
        "    cnt = 0\n",
        "    np.append(bars,[-1])\n",
        "    for i in bars:\n",
        "      if i == (255 - d*255):\n",
        "        cnt = cnt + 1\n",
        "      else:\n",
        "        if d == 1: # if we were counting blacks\n",
        "          d = 0\n",
        "          binstring = binstring + '1'*math.ceil(cnt/nlb) # verifying that we have cnt >= nlb\n",
        "        else:\n",
        "          d = 1\n",
        "          binstring = binstring + '0'*math.floor(cnt/nlb)\n",
        "        cnt = 1\n",
        "    return binstring"
      ],
      "metadata": {
        "id": "60J4ZN2-Csb5"
      },
      "execution_count": 94,
      "outputs": []
    },
    {
      "cell_type": "code",
      "source": [
        "def find_num_bars(cropped_row):\n",
        "    num = 0\n",
        "    for i in cropped_row:\n",
        "        if i == 255:\n",
        "            break\n",
        "        else:\n",
        "            num += 1\n",
        "    return num"
      ],
      "metadata": {
        "id": "EFRfFE73BllC"
      },
      "execution_count": 97,
      "outputs": []
    },
    {
      "cell_type": "code",
      "source": [
        "def find_encoding(bs_list):\n",
        "    par_str = \"\"\n",
        "    for number in range(6):\n",
        "        parity = 0\n",
        "        for i in bs_list[number]:\n",
        "            parity ^= int(i)\n",
        "        par_str += str(parity)\n",
        "    return par_str"
      ],
      "metadata": {
        "id": "vDkfCwK2D7_r"
      },
      "execution_count": 98,
      "outputs": []
    },
    {
      "cell_type": "code",
      "source": [
        "def get_digits(binary_string,rep_length):\n",
        "    number_strings = []\n",
        "    start_pos = 3\n",
        "    end_pos = len(binary_string) - 3\n",
        "    i = start_pos\n",
        "    while(i < end_pos):\n",
        "        if i == start_pos + rep_length*6: # at midpos we have another 101\n",
        "            i+=5\n",
        "            continue\n",
        "        number_strings.append(str(binary_string[i:i+rep_length]))\n",
        "        i += rep_length\n",
        "    return number_strings"
      ],
      "metadata": {
        "id": "Y8wGt3aKCNfc"
      },
      "execution_count": 96,
      "outputs": []
    },
    {
      "cell_type": "code",
      "source": [
        "def decode(encoding_patter_number,bs_list):\n",
        "    info = \"\"\n",
        "    info += str(encoding_pattern[encoding_pattern_number]) + '-'\n",
        "    for i in range(6):\n",
        "        # print(info)\n",
        "        info += str(left[int(encoding_pattern_number[i])][bs_list[i]])\n",
        "    info += '-'\n",
        "    for i in range(6,12):\n",
        "        info += str(right[bs_list[i]])\n",
        "    return info"
      ],
      "metadata": {
        "id": "YfWBbbN0E7XR"
      },
      "execution_count": 99,
      "outputs": []
    },
    {
      "cell_type": "markdown",
      "source": [
        "Plot the histogram of pixel intensities."
      ],
      "metadata": {
        "id": "sm2sCar4UZbz"
      }
    },
    {
      "cell_type": "code",
      "source": [
        "histr = cv2.calcHist([out],[0],None,[256],[0,256])\n",
        "plt.plot(histr)"
      ],
      "metadata": {
        "id": "ST1dJbA1xPDK",
        "colab": {
          "base_uri": "https://localhost:8080/",
          "height": 447
        },
        "outputId": "ef27917d-d293-4d04-8acf-ab379b99ed03"
      },
      "execution_count": 74,
      "outputs": [
        {
          "output_type": "execute_result",
          "data": {
            "text/plain": [
              "[<matplotlib.lines.Line2D at 0x7fa8b3a15330>]"
            ]
          },
          "metadata": {},
          "execution_count": 74
        },
        {
          "output_type": "display_data",
          "data": {
            "text/plain": [
              "<Figure size 640x480 with 1 Axes>"
            ],
            "image/png": "[encoded data removed]"
          },
          "metadata": {}
        }
      ]
    },
    {
      "cell_type": "code",
      "source": [
        "image_cropped = out\n",
        "image_cropped = cv2.resize(image_cropped, (219, 150))"
      ],
      "metadata": {
        "id": "Gr4Eby0s75cL"
      },
      "execution_count": 82,
      "outputs": []
    },
    {
      "cell_type": "markdown",
      "source": [
        "The below cell performs binary thresholding using binarise(inp_img, threshold_value) function. Try out different threshold values and see if the Barcode Detection always works."
      ],
      "metadata": {
        "id": "DOpnX-vvTnAq"
      }
    },
    {
      "cell_type": "code",
      "source": [
        "bimg = binarise(image_cropped,175) # Change the thresold parameter and check if the barcode detection works for other values\n",
        "cv2_imshow(bimg)"
      ],
      "metadata": {
        "id": "2xE3YWo2jLHb",
        "colab": {
          "base_uri": "https://localhost:8080/",
          "height": 167
        },
        "outputId": "85dda052-f749-4c5c-ef99-672fb28d5d2e"
      },
      "execution_count": 92,
      "outputs": [
        {
          "output_type": "display_data",
          "data": {
            "text/plain": [
              "<PIL.Image.Image image mode=L size=219x150 at 0x7FA8B4276200>"
            ],
            "image/png": "[encoded data removed]"
          },
          "metadata": {}
        }
      ]
    },
    {
      "cell_type": "markdown",
      "source": [
        "**Final Barcode Scanning Algorithm:**"
      ],
      "metadata": {
        "id": "-gJzEgJZUt6z"
      }
    },
    {
      "cell_type": "code",
      "source": [
        "ctr = defaultdict(int)\n",
        "for row in bimg:\n",
        "  cropped_row = primitive_crop(row)\n",
        "  if cropped_row is None:\n",
        "    continue\n",
        "  try:\n",
        "    nlb = find_num_bars(cropped_row) # finds number of 0s which symbolise a black bar\n",
        "    # print(nlb)\n",
        "    binary_string = convert_binary(cropped_row,nlb) # converting bars to binary strings\n",
        "    rep_length = 7 # each digit has 7 binary digits\n",
        "    num_numbers = 13 # there are 13 numbers\n",
        "    bs_list = get_digits(binary_string,rep_length)\n",
        "    encoding_pattern_number = find_encoding(bs_list)\n",
        "    information = decode(encoding_pattern_number,bs_list)\n",
        "    ctr[information] +=1\n",
        "  except:\n",
        "    continue\n",
        "\n",
        "if len(list(ctr.keys())):\n",
        "  print('Scanned Barcode:',list(ctr.keys())[0])\n",
        "else:\n",
        "  print('Barcode Scanning Failed!!!')"
      ],
      "metadata": {
        "id": "S6snlnDyWoft",
        "colab": {
          "base_uri": "https://localhost:8080/"
        },
        "outputId": "b2d937f8-56ce-440f-f65e-6a24166edb87"
      },
      "execution_count": 101,
      "outputs": [
        {
          "output_type": "stream",
          "name": "stdout",
          "text": [
            "Scanned Barcode: 6-661869-101132\n"
          ]
        }
      ]
    },
    {
      "cell_type": "code",
      "source": [],
      "metadata": {
        "id": "o4qK5Osol9VI"
      },
      "execution_count": null,
      "outputs": []
    }
  ]
}